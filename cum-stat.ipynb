{
 "cells": [
  {
   "cell_type": "code",
   "execution_count": 55,
   "id": "12b14fc2",
   "metadata": {},
   "outputs": [],
   "source": [
    "List=[10,20,30,40,50]\n",
    "sum= 0\n",
    "prod= 1\n",
    "result_cumsum= []\n",
    "result_cumprod= []"
   ]
  },
  {
   "cell_type": "code",
   "execution_count": 56,
   "id": "a7efc193",
   "metadata": {},
   "outputs": [],
   "source": [
    "for i in List:\n",
    "    sum= sum + i\n",
    "    prod = prod * i\n",
    "    result_cumsum.append(sum)\n",
    "    result_cumprod.append(prod)"
   ]
  },
  {
   "cell_type": "code",
   "execution_count": 57,
   "id": "ca4e7cf0",
   "metadata": {},
   "outputs": [
    {
     "name": "stdout",
     "output_type": "stream",
     "text": [
      "cumsum= [10, 30, 60, 100, 150]\n"
     ]
    }
   ],
   "source": [
    "print(\"cumsum=\", result_cumsum)"
   ]
  },
  {
   "cell_type": "code",
   "execution_count": 58,
   "id": "4b9905aa",
   "metadata": {},
   "outputs": [
    {
     "name": "stdout",
     "output_type": "stream",
     "text": [
      "cumprod=  [10, 200, 6000, 240000, 12000000]\n"
     ]
    }
   ],
   "source": [
    "print(\"cumprod= \" ,result_cumprod)"
   ]
  }
 ],
 "metadata": {
  "kernelspec": {
   "display_name": "Python 3",
   "language": "python",
   "name": "python3"
  },
  "language_info": {
   "codemirror_mode": {
    "name": "ipython",
    "version": 3
   },
   "file_extension": ".py",
   "mimetype": "text/x-python",
   "name": "python",
   "nbconvert_exporter": "python",
   "pygments_lexer": "ipython3",
   "version": "3.8.8"
  }
 },
 "nbformat": 4,
 "nbformat_minor": 5
}
